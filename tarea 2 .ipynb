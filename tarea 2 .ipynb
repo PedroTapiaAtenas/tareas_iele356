{
 "cells": [
  {
   "cell_type": "markdown",
   "id": "70d80831",
   "metadata": {},
   "source": [
    "## Tarea 2\n",
    "###### Pedro Tapia"
   ]
  },
  {
   "cell_type": "code",
   "execution_count": 117,
   "id": "09e50a9f",
   "metadata": {},
   "outputs": [],
   "source": [
    "import pandas as pd\n",
    "import seaborn as sns\n",
    "import matplotlib.pyplot as plt\n",
    "import numpy as np\n",
    "from statsmodels import robust\n",
    "%matplotlib inline"
   ]
  },
  {
   "cell_type": "code",
   "execution_count": 118,
   "id": "aae83214",
   "metadata": {},
   "outputs": [],
   "source": [
    "tabla = pd.read_csv(\"https://github.com/MinCiencia/Datos-COVID19/blob/master/output/producto1/Covid-19.csv?raw=true\", sep=',')"
   ]
  },
  {
   "cell_type": "code",
   "execution_count": 119,
   "id": "51c9cc6f",
   "metadata": {
    "scrolled": true
   },
   "outputs": [
    {
     "name": "stderr",
     "output_type": "stream",
     "text": [
      "C:\\Users\\pedro\\anaconda3\\lib\\site-packages\\pandas\\core\\frame.py:4308: SettingWithCopyWarning: \n",
      "A value is trying to be set on a copy of a slice from a DataFrame\n",
      "\n",
      "See the caveats in the documentation: https://pandas.pydata.org/pandas-docs/stable/user_guide/indexing.html#returning-a-view-versus-a-copy\n",
      "  return super().drop(\n"
     ]
    }
   ],
   "source": [
    "casosRM=tabla[tabla[\"Region\"]==\"Metropolitana\"]   \n",
    "casosRM.drop(\"Tasa\",axis=1,inplace=True)"
   ]
  },
  {
   "cell_type": "code",
   "execution_count": 120,
   "id": "abcd0f77",
   "metadata": {},
   "outputs": [],
   "source": [
    "casos=casosRM.melt(id_vars=[\"Region\",\"Codigo region\",\"Comuna\",\"Codigo comuna\",\"Poblacion\"],var_name=\"fecha\") "
   ]
  },
  {
   "cell_type": "code",
   "execution_count": 121,
   "id": "c8e3db99",
   "metadata": {},
   "outputs": [
    {
     "data": {
      "text/html": [
       "<div>\n",
       "<style scoped>\n",
       "    .dataframe tbody tr th:only-of-type {\n",
       "        vertical-align: middle;\n",
       "    }\n",
       "\n",
       "    .dataframe tbody tr th {\n",
       "        vertical-align: top;\n",
       "    }\n",
       "\n",
       "    .dataframe thead th {\n",
       "        text-align: right;\n",
       "    }\n",
       "</style>\n",
       "<table border=\"1\" class=\"dataframe\">\n",
       "  <thead>\n",
       "    <tr style=\"text-align: right;\">\n",
       "      <th></th>\n",
       "      <th>Region</th>\n",
       "      <th>Codigo region</th>\n",
       "      <th>Comuna</th>\n",
       "      <th>Codigo comuna</th>\n",
       "      <th>Poblacion</th>\n",
       "      <th>fecha</th>\n",
       "      <th>value</th>\n",
       "    </tr>\n",
       "  </thead>\n",
       "  <tbody>\n",
       "    <tr>\n",
       "      <th>0</th>\n",
       "      <td>Metropolitana</td>\n",
       "      <td>13</td>\n",
       "      <td>Alhue</td>\n",
       "      <td>13502.0</td>\n",
       "      <td>7405.0</td>\n",
       "      <td>2020-03-30</td>\n",
       "      <td>0.0</td>\n",
       "    </tr>\n",
       "    <tr>\n",
       "      <th>1</th>\n",
       "      <td>Metropolitana</td>\n",
       "      <td>13</td>\n",
       "      <td>Buin</td>\n",
       "      <td>13402.0</td>\n",
       "      <td>109641.0</td>\n",
       "      <td>2020-03-30</td>\n",
       "      <td>7.0</td>\n",
       "    </tr>\n",
       "  </tbody>\n",
       "</table>\n",
       "</div>"
      ],
      "text/plain": [
       "          Region  Codigo region Comuna  Codigo comuna  Poblacion       fecha  \\\n",
       "0  Metropolitana             13  Alhue        13502.0     7405.0  2020-03-30   \n",
       "1  Metropolitana             13   Buin        13402.0   109641.0  2020-03-30   \n",
       "\n",
       "   value  \n",
       "0    0.0  \n",
       "1    7.0  "
      ]
     },
     "execution_count": 121,
     "metadata": {},
     "output_type": "execute_result"
    }
   ],
   "source": [
    "casos.head(2)"
   ]
  },
  {
   "cell_type": "code",
   "execution_count": 122,
   "id": "68868928",
   "metadata": {},
   "outputs": [],
   "source": [
    "casos.drop(\"Codigo region\",axis=1,inplace=True) \n",
    "casos.drop(\"Codigo comuna\",axis=1,inplace=True)\n",
    "casos.drop(\"Poblacion\",axis=1,inplace=True) "
   ]
  },
  {
   "cell_type": "code",
   "execution_count": 123,
   "id": "a0ec0ca0",
   "metadata": {},
   "outputs": [
    {
     "data": {
      "text/html": [
       "<div>\n",
       "<style scoped>\n",
       "    .dataframe tbody tr th:only-of-type {\n",
       "        vertical-align: middle;\n",
       "    }\n",
       "\n",
       "    .dataframe tbody tr th {\n",
       "        vertical-align: top;\n",
       "    }\n",
       "\n",
       "    .dataframe thead th {\n",
       "        text-align: right;\n",
       "    }\n",
       "</style>\n",
       "<table border=\"1\" class=\"dataframe\">\n",
       "  <thead>\n",
       "    <tr style=\"text-align: right;\">\n",
       "      <th></th>\n",
       "      <th>Region</th>\n",
       "      <th>Comuna</th>\n",
       "      <th>fecha</th>\n",
       "      <th>value</th>\n",
       "    </tr>\n",
       "  </thead>\n",
       "  <tbody>\n",
       "    <tr>\n",
       "      <th>0</th>\n",
       "      <td>Metropolitana</td>\n",
       "      <td>Alhue</td>\n",
       "      <td>2020-03-30</td>\n",
       "      <td>0.0</td>\n",
       "    </tr>\n",
       "    <tr>\n",
       "      <th>1</th>\n",
       "      <td>Metropolitana</td>\n",
       "      <td>Buin</td>\n",
       "      <td>2020-03-30</td>\n",
       "      <td>7.0</td>\n",
       "    </tr>\n",
       "  </tbody>\n",
       "</table>\n",
       "</div>"
      ],
      "text/plain": [
       "          Region Comuna       fecha  value\n",
       "0  Metropolitana  Alhue  2020-03-30    0.0\n",
       "1  Metropolitana   Buin  2020-03-30    7.0"
      ]
     },
     "execution_count": 123,
     "metadata": {},
     "output_type": "execute_result"
    }
   ],
   "source": [
    "casos.head(2)"
   ]
  },
  {
   "cell_type": "code",
   "execution_count": 124,
   "id": "c6fdbb8e",
   "metadata": {},
   "outputs": [
    {
     "data": {
      "text/html": [
       "<div>\n",
       "<style scoped>\n",
       "    .dataframe tbody tr th:only-of-type {\n",
       "        vertical-align: middle;\n",
       "    }\n",
       "\n",
       "    .dataframe tbody tr th {\n",
       "        vertical-align: top;\n",
       "    }\n",
       "\n",
       "    .dataframe thead th {\n",
       "        text-align: right;\n",
       "    }\n",
       "</style>\n",
       "<table border=\"1\" class=\"dataframe\">\n",
       "  <thead>\n",
       "    <tr style=\"text-align: right;\">\n",
       "      <th></th>\n",
       "      <th>Comuna</th>\n",
       "      <th>fecha</th>\n",
       "      <th>value</th>\n",
       "    </tr>\n",
       "  </thead>\n",
       "  <tbody>\n",
       "    <tr>\n",
       "      <th>0</th>\n",
       "      <td>Alhue</td>\n",
       "      <td>2020-03-30</td>\n",
       "      <td>0.0</td>\n",
       "    </tr>\n",
       "    <tr>\n",
       "      <th>267</th>\n",
       "      <td>Cerrillos</td>\n",
       "      <td>2020-03-30</td>\n",
       "      <td>0.0</td>\n",
       "    </tr>\n",
       "  </tbody>\n",
       "</table>\n",
       "</div>"
      ],
      "text/plain": [
       "        Comuna      fecha  value\n",
       "0        Alhue 2020-03-30    0.0\n",
       "267  Cerrillos 2020-03-30    0.0"
      ]
     },
     "execution_count": 124,
     "metadata": {},
     "output_type": "execute_result"
    }
   ],
   "source": [
    "casos[\"fecha\"]=pd.to_datetime(casos[\"fecha\"])  \n",
    "sumadecasos=casos.groupby(\"Comuna\").resample(\"W-Mon\",on=\"fecha\").sum().reset_index().sort_values(by=\"fecha\")\n",
    "sumadecasos.head(2)"
   ]
  },
  {
   "cell_type": "code",
   "execution_count": 125,
   "id": "35cc3f0a",
   "metadata": {},
   "outputs": [
    {
     "data": {
      "text/html": [
       "<div>\n",
       "<style scoped>\n",
       "    .dataframe tbody tr th:only-of-type {\n",
       "        vertical-align: middle;\n",
       "    }\n",
       "\n",
       "    .dataframe tbody tr th {\n",
       "        vertical-align: top;\n",
       "    }\n",
       "\n",
       "    .dataframe thead th {\n",
       "        text-align: right;\n",
       "    }\n",
       "</style>\n",
       "<table border=\"1\" class=\"dataframe\">\n",
       "  <thead>\n",
       "    <tr style=\"text-align: right;\">\n",
       "      <th></th>\n",
       "      <th>Comuna</th>\n",
       "      <th>fecha</th>\n",
       "      <th>value</th>\n",
       "    </tr>\n",
       "  </thead>\n",
       "  <tbody>\n",
       "    <tr>\n",
       "      <th>1869</th>\n",
       "      <td>Las Condes</td>\n",
       "      <td>2020-03-30</td>\n",
       "      <td>181.0</td>\n",
       "    </tr>\n",
       "    <tr>\n",
       "      <th>1870</th>\n",
       "      <td>Las Condes</td>\n",
       "      <td>2020-04-06</td>\n",
       "      <td>690.0</td>\n",
       "    </tr>\n",
       "  </tbody>\n",
       "</table>\n",
       "</div>"
      ],
      "text/plain": [
       "          Comuna      fecha  value\n",
       "1869  Las Condes 2020-03-30  181.0\n",
       "1870  Las Condes 2020-04-06  690.0"
      ]
     },
     "execution_count": 125,
     "metadata": {},
     "output_type": "execute_result"
    }
   ],
   "source": [
    "casoslascondes=sumadecasos[sumadecasos[\"Comuna\"]==\"Las Condes\"] \n",
    "casoslascondes.head(2)"
   ]
  },
  {
   "cell_type": "code",
   "execution_count": 126,
   "id": "7526072f",
   "metadata": {},
   "outputs": [
    {
     "name": "stderr",
     "output_type": "stream",
     "text": [
      "<ipython-input-126-affd6e163066>:1: SettingWithCopyWarning: \n",
      "A value is trying to be set on a copy of a slice from a DataFrame.\n",
      "Try using .loc[row_indexer,col_indexer] = value instead\n",
      "\n",
      "See the caveats in the documentation: https://pandas.pydata.org/pandas-docs/stable/user_guide/indexing.html#returning-a-view-versus-a-copy\n",
      "  casoslascondes[\"casos_activos\"]=casoslascondes[\"value\"]-casoslascondes[\"value\"].shift()\n"
     ]
    }
   ],
   "source": [
    "casoslascondes[\"casos_activos\"]=casoslascondes[\"value\"]-casoslascondes[\"value\"].shift()"
   ]
  },
  {
   "cell_type": "code",
   "execution_count": 127,
   "id": "acbc81b3",
   "metadata": {},
   "outputs": [
    {
     "data": {
      "text/html": [
       "<div>\n",
       "<style scoped>\n",
       "    .dataframe tbody tr th:only-of-type {\n",
       "        vertical-align: middle;\n",
       "    }\n",
       "\n",
       "    .dataframe tbody tr th {\n",
       "        vertical-align: top;\n",
       "    }\n",
       "\n",
       "    .dataframe thead th {\n",
       "        text-align: right;\n",
       "    }\n",
       "</style>\n",
       "<table border=\"1\" class=\"dataframe\">\n",
       "  <thead>\n",
       "    <tr style=\"text-align: right;\">\n",
       "      <th></th>\n",
       "      <th>index</th>\n",
       "      <th>Comuna</th>\n",
       "      <th>fecha</th>\n",
       "      <th>value</th>\n",
       "      <th>casos_activos</th>\n",
       "    </tr>\n",
       "  </thead>\n",
       "  <tbody>\n",
       "    <tr>\n",
       "      <th>0</th>\n",
       "      <td>1870</td>\n",
       "      <td>Las Condes</td>\n",
       "      <td>2020-04-06</td>\n",
       "      <td>690.0</td>\n",
       "      <td>509.0</td>\n",
       "    </tr>\n",
       "    <tr>\n",
       "      <th>1</th>\n",
       "      <td>1871</td>\n",
       "      <td>Las Condes</td>\n",
       "      <td>2020-04-13</td>\n",
       "      <td>843.0</td>\n",
       "      <td>153.0</td>\n",
       "    </tr>\n",
       "  </tbody>\n",
       "</table>\n",
       "</div>"
      ],
      "text/plain": [
       "   index      Comuna      fecha  value  casos_activos\n",
       "0   1870  Las Condes 2020-04-06  690.0          509.0\n",
       "1   1871  Las Condes 2020-04-13  843.0          153.0"
      ]
     },
     "execution_count": 127,
     "metadata": {},
     "output_type": "execute_result"
    }
   ],
   "source": [
    "dat=casoslascondes[casoslascondes[\"casos_activos\"]>0].reset_index()\n",
    "dat.head(2)"
   ]
  },
  {
   "cell_type": "code",
   "execution_count": 128,
   "id": "cb44622f",
   "metadata": {},
   "outputs": [],
   "source": [
    "dat.drop(\"index\",axis=1,inplace=True)\n",
    "dat.drop(\"value\",axis=1,inplace=True)"
   ]
  },
  {
   "cell_type": "code",
   "execution_count": 129,
   "id": "a0bc351f",
   "metadata": {
    "scrolled": true
   },
   "outputs": [
    {
     "data": {
      "text/plain": [
       "<AxesSubplot:xlabel='fecha', ylabel='casos_activos'>"
      ]
     },
     "execution_count": 129,
     "metadata": {},
     "output_type": "execute_result"
    },
    {
     "data": {
      "image/png": "[encoded data removed]",
      "text/plain": [
       "<Figure size 432x288 with 1 Axes>"
      ]
     },
     "metadata": {
      "needs_background": "light"
     },
     "output_type": "display_data"
    }
   ],
   "source": [
    "sns.boxplot(x=\"fecha\", y=\"casos_activos\",data=dat)"
   ]
  },
  {
   "cell_type": "code",
   "execution_count": 130,
   "id": "63c051ee",
   "metadata": {},
   "outputs": [],
   "source": [
    "outlier=casoslascondes[casoslascondes[\"casos_activos\"]>3000]"
   ]
  },
  {
   "cell_type": "code",
   "execution_count": 131,
   "id": "19e4de29",
   "metadata": {},
   "outputs": [
    {
     "data": {
      "text/html": [
       "<div>\n",
       "<style scoped>\n",
       "    .dataframe tbody tr th:only-of-type {\n",
       "        vertical-align: middle;\n",
       "    }\n",
       "\n",
       "    .dataframe tbody tr th {\n",
       "        vertical-align: top;\n",
       "    }\n",
       "\n",
       "    .dataframe thead th {\n",
       "        text-align: right;\n",
       "    }\n",
       "</style>\n",
       "<table border=\"1\" class=\"dataframe\">\n",
       "  <thead>\n",
       "    <tr style=\"text-align: right;\">\n",
       "      <th></th>\n",
       "      <th>Comuna</th>\n",
       "      <th>fecha</th>\n",
       "      <th>value</th>\n",
       "      <th>casos_activos</th>\n",
       "    </tr>\n",
       "  </thead>\n",
       "  <tbody>\n",
       "    <tr>\n",
       "      <th>1882</th>\n",
       "      <td>Las Condes</td>\n",
       "      <td>2020-06-29</td>\n",
       "      <td>9225.0</td>\n",
       "      <td>5033.0</td>\n",
       "    </tr>\n",
       "  </tbody>\n",
       "</table>\n",
       "</div>"
      ],
      "text/plain": [
       "          Comuna      fecha   value  casos_activos\n",
       "1882  Las Condes 2020-06-29  9225.0         5033.0"
      ]
     },
     "execution_count": 131,
     "metadata": {},
     "output_type": "execute_result"
    }
   ],
   "source": [
    "outlier"
   ]
  },
  {
   "cell_type": "code",
   "execution_count": null,
   "id": "b7b360e2",
   "metadata": {},
   "outputs": [],
   "source": []
  }
 ],
 "metadata": {
  "kernelspec": {
   "display_name": "Python 3",
   "language": "python",
   "name": "python3"
  },
  "language_info": {
   "codemirror_mode": {
    "name": "ipython",
    "version": 3
   },
   "file_extension": ".py",
   "mimetype": "text/x-python",
   "name": "python",
   "nbconvert_exporter": "python",
   "pygments_lexer": "ipython3",
   "version": "3.8.8"
  }
 },
 "nbformat": 4,
 "nbformat_minor": 5
}
